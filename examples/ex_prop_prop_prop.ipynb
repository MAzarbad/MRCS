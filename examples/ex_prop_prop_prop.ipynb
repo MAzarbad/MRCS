{
 "cells": [
  {
   "cell_type": "code",
   "execution_count": 3,
   "metadata": {},
   "outputs": [],
   "source": [
    "using Plots, Distributions\n",
    "\n",
    "# include main code\n",
    "include(\"../src/functions.jl\")\n",
    "include(\"FR_pR.jl\");"
   ]
  },
  {
   "cell_type": "code",
   "execution_count": 5,
   "metadata": {},
   "outputs": [
    {
     "data": {
      "text/plain": [
       "39.5625"
      ]
     },
     "metadata": {},
     "output_type": "display_data"
    }
   ],
   "source": [
    "const Δ = 0.02;\n",
    "const δ = 0.5;\n",
    "FR, pR, β = FR_pR(1, 1, 1);\n",
    "p = pR([1.0, 1.0, 1.0])"
   ]
  },
  {
   "cell_type": "code",
   "execution_count": 6,
   "metadata": {},
   "outputs": [
    {
     "ename": "UndefKeywordError",
     "evalue": "UndefKeywordError: keyword argument `ER` not assigned",
     "output_type": "error",
     "traceback": [
      "UndefKeywordError: keyword argument `ER` not assigned\n",
      "\n",
      "Stacktrace:\n",
      " [1] top-level scope\n",
      "   @ ~/.julia/dev/MRCS/examples/jl_notebook_cell_df34fa98e69747e1a8f8a730347b8e2f_W2sdnNjb2RlLXJlbW90ZQ==.jl:1"
     ]
    }
   ],
   "source": [
    "res = bisection_hjbsolver(\n",
    "    a=0.0,\n",
    "    b=p / δ^2,\n",
    "    max_it=20,\n",
    "    NRe=3,\n",
    "    β=β,\n",
    "    FR=FR,\n",
    "    pR=pR,\n",
    "    partition=(0.0, 0.1, 10.0, 150.0),\n",
    "    Δx=Δ,\n",
    "    SearchRanges=(\n",
    "        [(0.0, 1.0), (0.0, 1.0), (0.0, 1.0)],\n",
    "        [(0.0, 1.0), (0.0, 1.0), (0.0, 1.0)],\n",
    "    ),\n",
    "    δ=δ,\n",
    "    MaxEvals=1500,\n",
    "    ϵ=0.5,\n",
    "    L=10,\n",
    "    p=pR([1.0, 1.0, 1.0]),\n",
    ")"
   ]
  },
  {
   "cell_type": "code",
   "execution_count": null,
   "metadata": {},
   "outputs": [],
   "source": []
  }
 ],
 "metadata": {
  "kernelspec": {
   "display_name": "Julia 1.11.0",
   "language": "julia",
   "name": "julia-1.11"
  },
  "language_info": {
   "file_extension": ".jl",
   "mimetype": "application/julia",
   "name": "julia",
   "version": "1.11.0"
  }
 },
 "nbformat": 4,
 "nbformat_minor": 2
}
